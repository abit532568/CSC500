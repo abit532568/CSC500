{
  "nbformat": 4,
  "nbformat_minor": 0,
  "metadata": {
    "colab": {
      "provenance": [],
      "authorship_tag": "ABX9TyM7jy6kinpVnzMJjIjNlY9w",
      "include_colab_link": true
    },
    "kernelspec": {
      "name": "python3",
      "display_name": "Python 3"
    },
    "language_info": {
      "name": "python"
    }
  },
  "cells": [
    {
      "cell_type": "markdown",
      "metadata": {
        "id": "view-in-github",
        "colab_type": "text"
      },
      "source": [
        "<a href=\"https://colab.research.google.com/github/abit532568/CSC500/blob/main/Untitled3.ipynb\" target=\"_parent\"><img src=\"https://colab.research.google.com/assets/colab-badge.svg\" alt=\"Open In Colab\"/></a>"
      ]
    },
    {
      "cell_type": "code",
      "execution_count": 1,
      "metadata": {
        "id": "Pgl9BxGhRiGD",
        "colab": {
          "base_uri": "https://localhost:8080/"
        },
        "outputId": "9160262d-381a-4562-aae4-a0b3803b4763"
      },
      "outputs": [
        {
          "output_type": "stream",
          "name": "stdout",
          "text": [
            "Enter the first number: 10\n",
            "Enter the second number: 8\n",
            "The addition of 10.0 and 8.0 is: 18.0\n",
            "The subtraction of 10.0 and 8.0 is: 2.0\n"
          ]
        }
      ],
      "source": [
        "# Function to add two numbers\n",
        "def add_numbers(num1, num2):\n",
        "    return num1 + num2\n",
        "\n",
        "# Function to subtract two numbers\n",
        "def subtract_numbers(num1, num2):\n",
        "    return num1 - num2\n",
        "\n",
        "# Main program\n",
        "if __name__ == \"__main__\":\n",
        "    # Ask the user to input two numbers\n",
        "    num1 = float(input(\"Enter the first number: \"))\n",
        "    num2 = float(input(\"Enter the second number: \"))\n",
        "\n",
        "    # Calculate the addition and subtraction\n",
        "    addition_result = add_numbers(num1, num2)\n",
        "    subtraction_result = subtract_numbers(num1, num2)\n",
        "\n",
        "    # Display the results\n",
        "    print(f\"The addition of {num1} and {num2} is: {addition_result}\")\n",
        "    print(f\"The subtraction of {num1} and {num2} is: {subtraction_result}\")"
      ]
    },
    {
      "cell_type": "code",
      "source": [
        "# Asking the user to input two numbers\n",
        "num1 = float(input(\"Enter the first number: \"))\n",
        "num2 = float(input(\"Enter the second number: \"))\n",
        "\n",
        "# Performing multiplication\n",
        "multiplication_result = num1 * num2\n",
        "\n",
        "# Performing division (checking if num2 is not zero)\n",
        "if num2 != 0:\n",
        "    division_result = num1 / num2\n",
        "else:\n",
        "    division_result = \"Undefined (cannot divide by zero)\"\n",
        "\n",
        "# Output the results\n",
        "print(f\"The multiplication of {num1} and {num2} is: {multiplication_result}\")\n",
        "print(f\"The division of {num1} by {num2} is: {division_result}\")\n"
      ],
      "metadata": {
        "colab": {
          "base_uri": "https://localhost:8080/"
        },
        "id": "aoTlc2UMvWDg",
        "outputId": "c1fbea2a-15e1-43bf-9326-d84815a57446"
      },
      "execution_count": 10,
      "outputs": [
        {
          "output_type": "stream",
          "name": "stdout",
          "text": [
            "Enter the first number: 10\n",
            "Enter the second number: 2\n",
            "The multiplication of 10.0 and 2.0 is: 20.0\n",
            "The division of 10.0 by 2.0 is: 5.0\n"
          ]
        }
      ]
    }
  ]
}