{
  "nbformat": 4,
  "nbformat_minor": 0,
  "metadata": {
    "colab": {
      "provenance": [],
      "authorship_tag": "ABX9TyPz/8EB+gA+iUhpmMRC4Y+S",
      "include_colab_link": true
    },
    "kernelspec": {
      "name": "python3",
      "display_name": "Python 3"
    },
    "language_info": {
      "name": "python"
    }
  },
  "cells": [
    {
      "cell_type": "markdown",
      "metadata": {
        "id": "view-in-github",
        "colab_type": "text"
      },
      "source": [
        "<a href=\"https://colab.research.google.com/github/abit532568/CSC500/blob/main/CT3.ipynb\" target=\"_parent\"><img src=\"https://colab.research.google.com/assets/colab-badge.svg\" alt=\"Open In Colab\"/></a>"
      ]
    },
    {
      "cell_type": "code",
      "execution_count": 1,
      "metadata": {
        "colab": {
          "base_uri": "https://localhost:8080/"
        },
        "id": "--BP92TUtVer",
        "outputId": "895d2cc4-3ea0-4187-a6d0-1829e89d7266"
      },
      "outputs": [
        {
          "output_type": "stream",
          "name": "stdout",
          "text": [
            "Enter the charge for the food: $50\n",
            "\n",
            "Food Charge: $50.00\n",
            "Tip (18%): $9.00\n",
            "Sales Tax (7%): $3.50\n",
            "Total Price: $62.50\n"
          ]
        }
      ],
      "source": [
        "def calculate_total():\n",
        "    food_charge = float(input(\"Enter the charge for the food: $\"))\n",
        "    tip = food_charge * 0.18\n",
        "    sales_tax = food_charge * 0.07\n",
        "\n",
        "    total_price = food_charge + tip + sales_tax\n",
        "\n",
        "    print(f\"\\nFood Charge: ${food_charge:.2f}\")\n",
        "    print(f\"Tip (18%): ${tip:.2f}\")\n",
        "    print(f\"Sales Tax (7%): ${sales_tax:.2f}\")\n",
        "    print(f\"Total Price: ${total_price:.2f}\")\n",
        "calculate_total()\n"
      ]
    },
    {
      "cell_type": "code",
      "source": [
        "def alarm_time():\n",
        "\n",
        "    current_time = int(input(\"Enter the current time (in hours, 0-23): \"))\n",
        "\n",
        "    hours_to_wait = int(input(\"Enter the number of hours to wait for the alarm: \"))\n",
        "\n",
        "\n",
        "    alarm_time = (current_time + hours_to_wait) % 24\n",
        "\n",
        "    print(f\"The alarm will go off at {alarm_time:02d} hours.\")\n",
        "\n",
        "alarm_time()\n"
      ],
      "metadata": {
        "colab": {
          "base_uri": "https://localhost:8080/"
        },
        "id": "PrE48MbzuRgs",
        "outputId": "ff8ce9de-5dcc-45a2-d906-9af6389d8e2c"
      },
      "execution_count": 2,
      "outputs": [
        {
          "output_type": "stream",
          "name": "stdout",
          "text": [
            "Enter the current time (in hours, 0-23): 13\n",
            "Enter the number of hours to wait for the alarm: 50\n",
            "The alarm will go off at 15 hours.\n"
          ]
        }
      ]
    }
  ]
}