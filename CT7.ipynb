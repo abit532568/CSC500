{
  "nbformat": 4,
  "nbformat_minor": 0,
  "metadata": {
    "colab": {
      "provenance": [],
      "authorship_tag": "ABX9TyPIBrdEDoifBBVPEnj44QLO",
      "include_colab_link": true
    },
    "kernelspec": {
      "name": "python3",
      "display_name": "Python 3"
    },
    "language_info": {
      "name": "python"
    }
  },
  "cells": [
    {
      "cell_type": "markdown",
      "metadata": {
        "id": "view-in-github",
        "colab_type": "text"
      },
      "source": [
        "<a href=\"https://colab.research.google.com/github/abit532568/CSC500/blob/main/CT7.ipynb\" target=\"_parent\"><img src=\"https://colab.research.google.com/assets/colab-badge.svg\" alt=\"Open In Colab\"/></a>"
      ]
    },
    {
      "cell_type": "code",
      "source": [
        "room_numbers = {\n",
        "    'CSC101': '3004',\n",
        "    'CSC102': '4501',\n",
        "    'CSC103': '6755',\n",
        "    'NET110': '1244',\n",
        "    'COM241': '1411'\n",
        "}\n",
        "\n",
        "instructors = {\n",
        "    'CSC101': 'Haynes',\n",
        "    'CSC102': 'Alvarado',\n",
        "    'CSC103': 'Rich',\n",
        "    'NET110': 'Burke',\n",
        "    'COM241': 'Lee'\n",
        "}\n",
        "\n",
        "meeting_times = {\n",
        "    'CSC101': '8:00 a.m.',\n",
        "    'CSC102': '9:00 a.m.',\n",
        "    'CSC103': '10:00 a.m.',\n",
        "    'NET110': '11:00 a.m.',\n",
        "    'COM241': '1:00 p.m.'\n",
        "}\n",
        "\n",
        "course_number = input(\"Enter a course number (e.g., CSC101): \")\n",
        "if course_number in room_numbers:\n",
        "    room = room_numbers[course_number]\n",
        "    instructor = instructors[course_number]\n",
        "    meeting_time = meeting_times[course_number]\n",
        "\n",
        "    # Displaying the results\n",
        "    print(f\"Course: {course_number}\")\n",
        "    print(f\"Room Number: {room}\")\n",
        "    print(f\"Instructor: {instructor}\")\n",
        "    print(f\"Meeting Time: {meeting_time}\")\n",
        "else:\n",
        "    print(\"Invalid course number.\")\n"
      ],
      "metadata": {
        "colab": {
          "base_uri": "https://localhost:8080/"
        },
        "id": "e7EdZvCTC1Jp",
        "outputId": "06db39d9-ecdf-45b5-e9a3-c41f2328ead8"
      },
      "execution_count": 4,
      "outputs": [
        {
          "output_type": "stream",
          "name": "stdout",
          "text": [
            "Enter a course number (e.g., CSC101): COM241\n",
            "Course: COM241\n",
            "Room Number: 1411\n",
            "Instructor: Lee\n",
            "Meeting Time: 1:00 p.m.\n"
          ]
        }
      ]
    }
  ]
}