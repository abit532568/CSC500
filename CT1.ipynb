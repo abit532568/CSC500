{
  "nbformat": 4,
  "nbformat_minor": 0,
  "metadata": {
    "colab": {
      "provenance": [],
      "authorship_tag": "ABX9TyPJTNJI1qtjSi4Q+dFa2wGO",
      "include_colab_link": true
    },
    "kernelspec": {
      "name": "python3",
      "display_name": "Python 3"
    },
    "language_info": {
      "name": "python"
    }
  },
  "cells": [
    {
      "cell_type": "markdown",
      "metadata": {
        "id": "view-in-github",
        "colab_type": "text"
      },
      "source": [
        "<a href=\"https://colab.research.google.com/github/abit532568/CSC500/blob/main/CT1.ipynb\" target=\"_parent\"><img src=\"https://colab.research.google.com/assets/colab-badge.svg\" alt=\"Open In Colab\"/></a>"
      ]
    },
    {
      "cell_type": "code",
      "source": [
        "def add_numbers(num1, num2):\n",
        "    return num1 + num2\n",
        "\n",
        "\n",
        "def subtract_numbers(num1, num2):\n",
        "    return num1 - num2\n",
        "\n",
        "\n",
        "if __name__ == \"__main__\":\n",
        "\n",
        "    num1 = float(input(\" first number: \"))\n",
        "    num2 = float(input(\" second number: \"))\n",
        "\n",
        "\n",
        "    addition = add_numbers(num1, num2)\n",
        "    subtraction = subtract_numbers(num1, num2)\n",
        "\n",
        "\n",
        "    print(f\"add of {num1} and {num2} is: {addition}\")\n",
        "    print(f\"subtract of {num1} and {num2} is: {subtraction}\")\n",
        "\n"
      ],
      "metadata": {
        "colab": {
          "base_uri": "https://localhost:8080/"
        },
        "id": "11kAbAgrIvL4",
        "outputId": "78eb77d4-742d-4687-e455-b18f2506a82d"
      },
      "execution_count": 19,
      "outputs": [
        {
          "output_type": "stream",
          "name": "stdout",
          "text": [
            " first number: 10\n",
            " second number: 2\n",
            "add of 10.0 and 2.0 is: 12.0\n",
            "subtract of 10.0 and 2.0 is: 8.0\n"
          ]
        }
      ]
    },
    {
      "cell_type": "code",
      "source": [
        "num1 = float(input(\" first number: \"))\n",
        "num2 = float(input(\" second number: \"))\n",
        "\n",
        "multiply = num1 * num2\n",
        "if num2 != 0:\n",
        "    divide= num1 / num2\n",
        "else:\n",
        "    divide = \"undivisable\"\n",
        "\n",
        "\n",
        "print(f\"multiply of {num1} and {num2} is: {multiply}\")\n",
        "print(f\"divide of {num1} by {num2} is: {divide}\")\n"
      ],
      "metadata": {
        "colab": {
          "base_uri": "https://localhost:8080/"
        },
        "id": "YcN5Q3GZI1uB",
        "outputId": "ca52c2aa-9beb-4904-84fd-062233af9ae5"
      },
      "execution_count": 21,
      "outputs": [
        {
          "output_type": "stream",
          "name": "stdout",
          "text": [
            " first number: 10\n",
            " second number: 2\n",
            "multiply of 10.0 and 2.0 is: 20.0\n",
            "divide of 10.0 by 2.0 is: 5.0\n"
          ]
        }
      ]
    }
  ]
}