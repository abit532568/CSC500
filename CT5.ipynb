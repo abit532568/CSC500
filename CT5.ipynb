{
  "nbformat": 4,
  "nbformat_minor": 0,
  "metadata": {
    "colab": {
      "provenance": [],
      "authorship_tag": "ABX9TyOQ/BfheMtCF7xaYjJWtn7l",
      "include_colab_link": true
    },
    "kernelspec": {
      "name": "python3",
      "display_name": "Python 3"
    },
    "language_info": {
      "name": "python"
    }
  },
  "cells": [
    {
      "cell_type": "markdown",
      "metadata": {
        "id": "view-in-github",
        "colab_type": "text"
      },
      "source": [
        "<a href=\"https://colab.research.google.com/github/abit532568/CSC500/blob/main/CT5.ipynb\" target=\"_parent\"><img src=\"https://colab.research.google.com/assets/colab-badge.svg\" alt=\"Open In Colab\"/></a>"
      ]
    },
    {
      "cell_type": "code",
      "execution_count": 1,
      "metadata": {
        "colab": {
          "base_uri": "https://localhost:8080/"
        },
        "id": "K5-8rX4xS9zH",
        "outputId": "6fa9654e-0fd0-4df0-f5e1-f7da3d15f8c4"
      },
      "outputs": [
        {
          "output_type": "stream",
          "name": "stdout",
          "text": [
            "Enter the number of years: 2\n",
            "\n",
            "Year 1:\n",
            "Enter rain for month 1 (in inches): 2.3\n",
            "Enter rain for month 2 (in inches): 1.2\n",
            "Enter rain for month 3 (in inches): 3.2\n",
            "Enter rain for month 4 (in inches): 4.2\n",
            "Enter rain for month 5 (in inches): 5.3\n",
            "Enter rain for month 6 (in inches): 2.3\n",
            "Enter rain for month 7 (in inches): 1.2\n",
            "Enter rain for month 8 (in inches): 8.5\n",
            "Enter rain for month 9 (in inches): 6.2\n",
            "Enter rain for month 10 (in inches): 6.2\n",
            "Enter rain for month 11 (in inches): 3.2\n",
            "Enter rain for month 12 (in inches): 1.3\n",
            "\n",
            "Year 2:\n",
            "Enter rain for month 1 (in inches): 1.2\n",
            "Enter rain for month 2 (in inches): 3.2\n",
            "Enter rain for month 3 (in inches): 5.6\n",
            "Enter rain for month 4 (in inches): 9.8\n",
            "Enter rain for month 5 (in inches): 8.9\n",
            "Enter rain for month 6 (in inches): 5.2\n",
            "Enter rain for month 7 (in inches): 2.5\n",
            "Enter rain for month 8 (in inches): 6.3\n",
            "Enter rain for month 9 (in inches): 1.5\n",
            "Enter rain for month 10 (in inches): 4.6\n",
            "Enter rain for month 11 (in inches): 5.4\n",
            "Enter rain for month 12 (in inches): 5.6\n",
            "\n",
            "Total number of months: 24\n",
            "Total rainfall: 104.90 inches\n",
            "Average rainfall per month: 4.37 inches\n"
          ]
        }
      ],
      "source": [
        "def calculate_average_rainfall():\n",
        "    years = int(input(\"Enter the number of years: \"))\n",
        "\n",
        "    rainfall = 0\n",
        "    months = 0\n",
        "\n",
        "    for year in range(1, years + 1):\n",
        "        print(f\"\\nYear {year}:\")\n",
        "\n",
        "        for month in range(1, 13):\n",
        "            rain = float(input(f\"Enter rain for month {month} (in inches): \"))\n",
        "\n",
        "            rainfall += rain\n",
        "            months += 1\n",
        "\n",
        "    average_rainfall = rainfall / months if months > 0 else 0\n",
        "\n",
        "    print(f\"\\nTotal number of months: {months}\")\n",
        "    print(f\"Total rainfall: {rainfall:.2f} inches\")\n",
        "    print(f\"Average rainfall per month: {average_rainfall:.2f} inches\")\n",
        "calculate_average_rainfall()\n"
      ]
    },
    {
      "cell_type": "code",
      "source": [
        "bought = int(input(\"Enter the number of books you purchased this month: \"))\n",
        "\n",
        "if bought == 0:\n",
        "    point = 0\n",
        "elif bought == 2:\n",
        "    point = 5\n",
        "elif bought == 4:\n",
        "    point = 15\n",
        "elif bought == 6:\n",
        "    point = 30\n",
        "elif bought >= 8:\n",
        "    point = 60\n",
        "else:\n",
        "    point = 0\n",
        "\n",
        "print(f\"You have earned {point} point.\")\n",
        "\n"
      ],
      "metadata": {
        "colab": {
          "base_uri": "https://localhost:8080/"
        },
        "id": "NBzX8vexUr4A",
        "outputId": "e6ae982c-8fce-46f9-9faa-49b8459b1c00"
      },
      "execution_count": 10,
      "outputs": [
        {
          "output_type": "stream",
          "name": "stdout",
          "text": [
            "Enter the number of books you purchased this month: 4\n",
            "You have earned 15 point.\n"
          ]
        }
      ]
    }
  ]
}